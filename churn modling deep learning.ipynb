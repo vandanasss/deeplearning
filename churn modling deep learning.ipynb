{
 "cells": [
  {
   "cell_type": "code",
   "execution_count": 11,
   "id": "ae5dc51e",
   "metadata": {},
   "outputs": [],
   "source": [
    "import pandas as pd"
   ]
  },
  {
   "cell_type": "code",
   "execution_count": 1,
   "id": "f14b0c7c",
   "metadata": {},
   "outputs": [
    {
     "name": "stdout",
     "output_type": "stream",
     "text": [
      "Requirement already satisfied: tensorflow-gpu in c:\\users\\samat\\anaconda3\\lib\\site-packages (2.10.0)\n",
      "Requirement already satisfied: astunparse>=1.6.0 in c:\\users\\samat\\anaconda3\\lib\\site-packages (from tensorflow-gpu) (1.6.3)\n",
      "Requirement already satisfied: h5py>=2.9.0 in c:\\users\\samat\\anaconda3\\lib\\site-packages (from tensorflow-gpu) (3.6.0)\n",
      "Requirement already satisfied: numpy>=1.20 in c:\\users\\samat\\anaconda3\\lib\\site-packages (from tensorflow-gpu) (1.21.5)\n",
      "Requirement already satisfied: google-pasta>=0.1.1 in c:\\users\\samat\\anaconda3\\lib\\site-packages (from tensorflow-gpu) (0.2.0)\n",
      "Requirement already satisfied: typing-extensions>=3.6.6 in c:\\users\\samat\\anaconda3\\lib\\site-packages (from tensorflow-gpu) (4.1.1)\n",
      "Requirement already satisfied: tensorflow-io-gcs-filesystem>=0.23.1 in c:\\users\\samat\\anaconda3\\lib\\site-packages (from tensorflow-gpu) (0.27.0)\n",
      "Requirement already satisfied: flatbuffers>=2.0 in c:\\users\\samat\\anaconda3\\lib\\site-packages (from tensorflow-gpu) (22.9.24)\n",
      "Requirement already satisfied: keras<2.11,>=2.10.0 in c:\\users\\samat\\anaconda3\\lib\\site-packages (from tensorflow-gpu) (2.10.0)\n",
      "Requirement already satisfied: grpcio<2.0,>=1.24.3 in c:\\users\\samat\\anaconda3\\lib\\site-packages (from tensorflow-gpu) (1.42.0)\n",
      "Requirement already satisfied: tensorflow-estimator<2.11,>=2.10.0 in c:\\users\\samat\\anaconda3\\lib\\site-packages (from tensorflow-gpu) (2.10.0)\n",
      "Requirement already satisfied: six>=1.12.0 in c:\\users\\samat\\anaconda3\\lib\\site-packages (from tensorflow-gpu) (1.16.0)\n",
      "Requirement already satisfied: termcolor>=1.1.0 in c:\\users\\samat\\anaconda3\\lib\\site-packages (from tensorflow-gpu) (2.0.1)\n",
      "Requirement already satisfied: gast<=0.4.0,>=0.2.1 in c:\\users\\samat\\anaconda3\\lib\\site-packages (from tensorflow-gpu) (0.4.0)\n",
      "Requirement already satisfied: setuptools in c:\\users\\samat\\anaconda3\\lib\\site-packages (from tensorflow-gpu) (61.2.0)\n",
      "Requirement already satisfied: protobuf<3.20,>=3.9.2 in c:\\users\\samat\\anaconda3\\lib\\site-packages (from tensorflow-gpu) (3.19.1)\n",
      "Requirement already satisfied: packaging in c:\\users\\samat\\anaconda3\\lib\\site-packages (from tensorflow-gpu) (21.3)\n",
      "Requirement already satisfied: tensorboard<2.11,>=2.10 in c:\\users\\samat\\anaconda3\\lib\\site-packages (from tensorflow-gpu) (2.10.1)\n",
      "Requirement already satisfied: libclang>=13.0.0 in c:\\users\\samat\\anaconda3\\lib\\site-packages (from tensorflow-gpu) (14.0.6)\n",
      "Requirement already satisfied: absl-py>=1.0.0 in c:\\users\\samat\\anaconda3\\lib\\site-packages (from tensorflow-gpu) (1.2.0)\n",
      "Requirement already satisfied: keras-preprocessing>=1.1.1 in c:\\users\\samat\\anaconda3\\lib\\site-packages (from tensorflow-gpu) (1.1.2)\n",
      "Requirement already satisfied: wrapt>=1.11.0 in c:\\users\\samat\\anaconda3\\lib\\site-packages (from tensorflow-gpu) (1.12.1)\n",
      "Requirement already satisfied: opt-einsum>=2.3.2 in c:\\users\\samat\\anaconda3\\lib\\site-packages (from tensorflow-gpu) (3.3.0)\n",
      "Requirement already satisfied: wheel<1.0,>=0.23.0 in c:\\users\\samat\\anaconda3\\lib\\site-packages (from astunparse>=1.6.0->tensorflow-gpu) (0.37.1)\n",
      "Requirement already satisfied: requests<3,>=2.21.0 in c:\\users\\samat\\anaconda3\\lib\\site-packages (from tensorboard<2.11,>=2.10->tensorflow-gpu) (2.27.1)\n",
      "Requirement already satisfied: google-auth-oauthlib<0.5,>=0.4.1 in c:\\users\\samat\\anaconda3\\lib\\site-packages (from tensorboard<2.11,>=2.10->tensorflow-gpu) (0.4.6)\n",
      "Requirement already satisfied: markdown>=2.6.8 in c:\\users\\samat\\anaconda3\\lib\\site-packages (from tensorboard<2.11,>=2.10->tensorflow-gpu) (3.3.4)\n",
      "Requirement already satisfied: tensorboard-data-server<0.7.0,>=0.6.0 in c:\\users\\samat\\anaconda3\\lib\\site-packages (from tensorboard<2.11,>=2.10->tensorflow-gpu) (0.6.1)\n",
      "Requirement already satisfied: tensorboard-plugin-wit>=1.6.0 in c:\\users\\samat\\anaconda3\\lib\\site-packages (from tensorboard<2.11,>=2.10->tensorflow-gpu) (1.8.1)\n",
      "Requirement already satisfied: google-auth<3,>=1.6.3 in c:\\users\\samat\\anaconda3\\lib\\site-packages (from tensorboard<2.11,>=2.10->tensorflow-gpu) (1.33.0)\n",
      "Requirement already satisfied: werkzeug>=1.0.1 in c:\\users\\samat\\anaconda3\\lib\\site-packages (from tensorboard<2.11,>=2.10->tensorflow-gpu) (2.0.3)\n",
      "Requirement already satisfied: rsa<5,>=3.1.4 in c:\\users\\samat\\anaconda3\\lib\\site-packages (from google-auth<3,>=1.6.3->tensorboard<2.11,>=2.10->tensorflow-gpu) (4.7.2)\n",
      "Requirement already satisfied: pyasn1-modules>=0.2.1 in c:\\users\\samat\\anaconda3\\lib\\site-packages (from google-auth<3,>=1.6.3->tensorboard<2.11,>=2.10->tensorflow-gpu) (0.2.8)\n",
      "Requirement already satisfied: cachetools<5.0,>=2.0.0 in c:\\users\\samat\\anaconda3\\lib\\site-packages (from google-auth<3,>=1.6.3->tensorboard<2.11,>=2.10->tensorflow-gpu) (4.2.2)\n",
      "Requirement already satisfied: requests-oauthlib>=0.7.0 in c:\\users\\samat\\anaconda3\\lib\\site-packages (from google-auth-oauthlib<0.5,>=0.4.1->tensorboard<2.11,>=2.10->tensorflow-gpu) (1.3.1)\n",
      "Requirement already satisfied: pyasn1<0.5.0,>=0.4.6 in c:\\users\\samat\\anaconda3\\lib\\site-packages (from pyasn1-modules>=0.2.1->google-auth<3,>=1.6.3->tensorboard<2.11,>=2.10->tensorflow-gpu) (0.4.8)\n",
      "Requirement already satisfied: idna<4,>=2.5 in c:\\users\\samat\\anaconda3\\lib\\site-packages (from requests<3,>=2.21.0->tensorboard<2.11,>=2.10->tensorflow-gpu) (3.3)\n",
      "Requirement already satisfied: urllib3<1.27,>=1.21.1 in c:\\users\\samat\\anaconda3\\lib\\site-packages (from requests<3,>=2.21.0->tensorboard<2.11,>=2.10->tensorflow-gpu) (1.26.9)\n",
      "Requirement already satisfied: charset-normalizer~=2.0.0 in c:\\users\\samat\\anaconda3\\lib\\site-packages (from requests<3,>=2.21.0->tensorboard<2.11,>=2.10->tensorflow-gpu) (2.0.4)\n",
      "Requirement already satisfied: certifi>=2017.4.17 in c:\\users\\samat\\anaconda3\\lib\\site-packages (from requests<3,>=2.21.0->tensorboard<2.11,>=2.10->tensorflow-gpu) (2021.10.8)\n",
      "Requirement already satisfied: oauthlib>=3.0.0 in c:\\users\\samat\\anaconda3\\lib\\site-packages (from requests-oauthlib>=0.7.0->google-auth-oauthlib<0.5,>=0.4.1->tensorboard<2.11,>=2.10->tensorflow-gpu) (3.2.1)\n",
      "Requirement already satisfied: pyparsing!=3.0.5,>=2.0.2 in c:\\users\\samat\\anaconda3\\lib\\site-packages (from packaging->tensorflow-gpu) (3.0.4)\n"
     ]
    }
   ],
   "source": [
    "!pip install tensorflow-gpu"
   ]
  },
  {
   "cell_type": "code",
   "execution_count": 2,
   "id": "0ff7bcdf",
   "metadata": {},
   "outputs": [
    {
     "name": "stdout",
     "output_type": "stream",
     "text": [
      "2.10.0\n"
     ]
    }
   ],
   "source": [
    "import tensorflow as tf\n",
    "print(tf.__version__)"
   ]
  },
  {
   "cell_type": "code",
   "execution_count": 3,
   "id": "8712bdd8",
   "metadata": {},
   "outputs": [],
   "source": [
    "import numpy as np\n",
    "import matplotlib.pyplot as plt\n",
    "import pandas as pd"
   ]
  },
  {
   "cell_type": "code",
   "execution_count": 4,
   "id": "a7cd9500",
   "metadata": {},
   "outputs": [],
   "source": [
    "dataset=pd.read_csv(\"Churn_Modelling.csv\")"
   ]
  },
  {
   "cell_type": "code",
   "execution_count": 6,
   "id": "1030871e",
   "metadata": {},
   "outputs": [
    {
     "data": {
      "text/html": [
       "<div>\n",
       "<style scoped>\n",
       "    .dataframe tbody tr th:only-of-type {\n",
       "        vertical-align: middle;\n",
       "    }\n",
       "\n",
       "    .dataframe tbody tr th {\n",
       "        vertical-align: top;\n",
       "    }\n",
       "\n",
       "    .dataframe thead th {\n",
       "        text-align: right;\n",
       "    }\n",
       "</style>\n",
       "<table border=\"1\" class=\"dataframe\">\n",
       "  <thead>\n",
       "    <tr style=\"text-align: right;\">\n",
       "      <th></th>\n",
       "      <th>RowNumber</th>\n",
       "      <th>CustomerId</th>\n",
       "      <th>Surname</th>\n",
       "      <th>CreditScore</th>\n",
       "      <th>Geography</th>\n",
       "      <th>Gender</th>\n",
       "      <th>Age</th>\n",
       "      <th>Tenure</th>\n",
       "      <th>Balance</th>\n",
       "      <th>NumOfProducts</th>\n",
       "      <th>HasCrCard</th>\n",
       "      <th>IsActiveMember</th>\n",
       "      <th>EstimatedSalary</th>\n",
       "      <th>Exited</th>\n",
       "    </tr>\n",
       "  </thead>\n",
       "  <tbody>\n",
       "    <tr>\n",
       "      <th>0</th>\n",
       "      <td>1</td>\n",
       "      <td>15634602</td>\n",
       "      <td>Hargrave</td>\n",
       "      <td>619</td>\n",
       "      <td>France</td>\n",
       "      <td>Female</td>\n",
       "      <td>42</td>\n",
       "      <td>2</td>\n",
       "      <td>0.00</td>\n",
       "      <td>1</td>\n",
       "      <td>1</td>\n",
       "      <td>1</td>\n",
       "      <td>101348.88</td>\n",
       "      <td>1</td>\n",
       "    </tr>\n",
       "    <tr>\n",
       "      <th>1</th>\n",
       "      <td>2</td>\n",
       "      <td>15647311</td>\n",
       "      <td>Hill</td>\n",
       "      <td>608</td>\n",
       "      <td>Spain</td>\n",
       "      <td>Female</td>\n",
       "      <td>41</td>\n",
       "      <td>1</td>\n",
       "      <td>83807.86</td>\n",
       "      <td>1</td>\n",
       "      <td>0</td>\n",
       "      <td>1</td>\n",
       "      <td>112542.58</td>\n",
       "      <td>0</td>\n",
       "    </tr>\n",
       "    <tr>\n",
       "      <th>2</th>\n",
       "      <td>3</td>\n",
       "      <td>15619304</td>\n",
       "      <td>Onio</td>\n",
       "      <td>502</td>\n",
       "      <td>France</td>\n",
       "      <td>Female</td>\n",
       "      <td>42</td>\n",
       "      <td>8</td>\n",
       "      <td>159660.80</td>\n",
       "      <td>3</td>\n",
       "      <td>1</td>\n",
       "      <td>0</td>\n",
       "      <td>113931.57</td>\n",
       "      <td>1</td>\n",
       "    </tr>\n",
       "    <tr>\n",
       "      <th>3</th>\n",
       "      <td>4</td>\n",
       "      <td>15701354</td>\n",
       "      <td>Boni</td>\n",
       "      <td>699</td>\n",
       "      <td>France</td>\n",
       "      <td>Female</td>\n",
       "      <td>39</td>\n",
       "      <td>1</td>\n",
       "      <td>0.00</td>\n",
       "      <td>2</td>\n",
       "      <td>0</td>\n",
       "      <td>0</td>\n",
       "      <td>93826.63</td>\n",
       "      <td>0</td>\n",
       "    </tr>\n",
       "    <tr>\n",
       "      <th>4</th>\n",
       "      <td>5</td>\n",
       "      <td>15737888</td>\n",
       "      <td>Mitchell</td>\n",
       "      <td>850</td>\n",
       "      <td>Spain</td>\n",
       "      <td>Female</td>\n",
       "      <td>43</td>\n",
       "      <td>2</td>\n",
       "      <td>125510.82</td>\n",
       "      <td>1</td>\n",
       "      <td>1</td>\n",
       "      <td>1</td>\n",
       "      <td>79084.10</td>\n",
       "      <td>0</td>\n",
       "    </tr>\n",
       "  </tbody>\n",
       "</table>\n",
       "</div>"
      ],
      "text/plain": [
       "   RowNumber  CustomerId   Surname  CreditScore Geography  Gender  Age  \\\n",
       "0          1    15634602  Hargrave          619    France  Female   42   \n",
       "1          2    15647311      Hill          608     Spain  Female   41   \n",
       "2          3    15619304      Onio          502    France  Female   42   \n",
       "3          4    15701354      Boni          699    France  Female   39   \n",
       "4          5    15737888  Mitchell          850     Spain  Female   43   \n",
       "\n",
       "   Tenure    Balance  NumOfProducts  HasCrCard  IsActiveMember  \\\n",
       "0       2       0.00              1          1               1   \n",
       "1       1   83807.86              1          0               1   \n",
       "2       8  159660.80              3          1               0   \n",
       "3       1       0.00              2          0               0   \n",
       "4       2  125510.82              1          1               1   \n",
       "\n",
       "   EstimatedSalary  Exited  \n",
       "0        101348.88       1  \n",
       "1        112542.58       0  \n",
       "2        113931.57       1  \n",
       "3         93826.63       0  \n",
       "4         79084.10       0  "
      ]
     },
     "execution_count": 6,
     "metadata": {},
     "output_type": "execute_result"
    }
   ],
   "source": [
    "dataset.head()"
   ]
  },
  {
   "cell_type": "code",
   "execution_count": 7,
   "id": "156b1ed3",
   "metadata": {},
   "outputs": [],
   "source": [
    "##divide dataset into independent and dependent features\n",
    "X=dataset.iloc[:,3:13]\n",
    "y=dataset.iloc[:,13]"
   ]
  },
  {
   "cell_type": "code",
   "execution_count": 8,
   "id": "808b2e15",
   "metadata": {},
   "outputs": [
    {
     "data": {
      "text/html": [
       "<div>\n",
       "<style scoped>\n",
       "    .dataframe tbody tr th:only-of-type {\n",
       "        vertical-align: middle;\n",
       "    }\n",
       "\n",
       "    .dataframe tbody tr th {\n",
       "        vertical-align: top;\n",
       "    }\n",
       "\n",
       "    .dataframe thead th {\n",
       "        text-align: right;\n",
       "    }\n",
       "</style>\n",
       "<table border=\"1\" class=\"dataframe\">\n",
       "  <thead>\n",
       "    <tr style=\"text-align: right;\">\n",
       "      <th></th>\n",
       "      <th>CreditScore</th>\n",
       "      <th>Geography</th>\n",
       "      <th>Gender</th>\n",
       "      <th>Age</th>\n",
       "      <th>Tenure</th>\n",
       "      <th>Balance</th>\n",
       "      <th>NumOfProducts</th>\n",
       "      <th>HasCrCard</th>\n",
       "      <th>IsActiveMember</th>\n",
       "      <th>EstimatedSalary</th>\n",
       "    </tr>\n",
       "  </thead>\n",
       "  <tbody>\n",
       "    <tr>\n",
       "      <th>0</th>\n",
       "      <td>619</td>\n",
       "      <td>France</td>\n",
       "      <td>Female</td>\n",
       "      <td>42</td>\n",
       "      <td>2</td>\n",
       "      <td>0.00</td>\n",
       "      <td>1</td>\n",
       "      <td>1</td>\n",
       "      <td>1</td>\n",
       "      <td>101348.88</td>\n",
       "    </tr>\n",
       "    <tr>\n",
       "      <th>1</th>\n",
       "      <td>608</td>\n",
       "      <td>Spain</td>\n",
       "      <td>Female</td>\n",
       "      <td>41</td>\n",
       "      <td>1</td>\n",
       "      <td>83807.86</td>\n",
       "      <td>1</td>\n",
       "      <td>0</td>\n",
       "      <td>1</td>\n",
       "      <td>112542.58</td>\n",
       "    </tr>\n",
       "    <tr>\n",
       "      <th>2</th>\n",
       "      <td>502</td>\n",
       "      <td>France</td>\n",
       "      <td>Female</td>\n",
       "      <td>42</td>\n",
       "      <td>8</td>\n",
       "      <td>159660.80</td>\n",
       "      <td>3</td>\n",
       "      <td>1</td>\n",
       "      <td>0</td>\n",
       "      <td>113931.57</td>\n",
       "    </tr>\n",
       "    <tr>\n",
       "      <th>3</th>\n",
       "      <td>699</td>\n",
       "      <td>France</td>\n",
       "      <td>Female</td>\n",
       "      <td>39</td>\n",
       "      <td>1</td>\n",
       "      <td>0.00</td>\n",
       "      <td>2</td>\n",
       "      <td>0</td>\n",
       "      <td>0</td>\n",
       "      <td>93826.63</td>\n",
       "    </tr>\n",
       "    <tr>\n",
       "      <th>4</th>\n",
       "      <td>850</td>\n",
       "      <td>Spain</td>\n",
       "      <td>Female</td>\n",
       "      <td>43</td>\n",
       "      <td>2</td>\n",
       "      <td>125510.82</td>\n",
       "      <td>1</td>\n",
       "      <td>1</td>\n",
       "      <td>1</td>\n",
       "      <td>79084.10</td>\n",
       "    </tr>\n",
       "  </tbody>\n",
       "</table>\n",
       "</div>"
      ],
      "text/plain": [
       "   CreditScore Geography  Gender  Age  Tenure    Balance  NumOfProducts  \\\n",
       "0          619    France  Female   42       2       0.00              1   \n",
       "1          608     Spain  Female   41       1   83807.86              1   \n",
       "2          502    France  Female   42       8  159660.80              3   \n",
       "3          699    France  Female   39       1       0.00              2   \n",
       "4          850     Spain  Female   43       2  125510.82              1   \n",
       "\n",
       "   HasCrCard  IsActiveMember  EstimatedSalary  \n",
       "0          1               1        101348.88  \n",
       "1          0               1        112542.58  \n",
       "2          1               0        113931.57  \n",
       "3          0               0         93826.63  \n",
       "4          1               1         79084.10  "
      ]
     },
     "execution_count": 8,
     "metadata": {},
     "output_type": "execute_result"
    }
   ],
   "source": [
    "X.head()"
   ]
  },
  {
   "cell_type": "code",
   "execution_count": 9,
   "id": "e13902d6",
   "metadata": {},
   "outputs": [
    {
     "data": {
      "text/plain": [
       "0    1\n",
       "1    0\n",
       "2    1\n",
       "3    0\n",
       "4    0\n",
       "Name: Exited, dtype: int64"
      ]
     },
     "execution_count": 9,
     "metadata": {},
     "output_type": "execute_result"
    }
   ],
   "source": [
    "y.head()"
   ]
  },
  {
   "cell_type": "code",
   "execution_count": 13,
   "id": "62d25bbf",
   "metadata": {},
   "outputs": [],
   "source": [
    "## Feature engineering\n",
    "geography=pd.get_dummies(X['Geography'],drop_first=True)\n",
    "gender=pd.get_dummies(X['Gender'],drop_first=True)"
   ]
  },
  {
   "cell_type": "code",
   "execution_count": 15,
   "id": "7dc2fbd0",
   "metadata": {},
   "outputs": [],
   "source": [
    "##concatinate\n",
    "X=X.drop(['Geography','Gender'],axis=1)"
   ]
  },
  {
   "cell_type": "code",
   "execution_count": 16,
   "id": "2646c961",
   "metadata": {},
   "outputs": [
    {
     "data": {
      "text/html": [
       "<div>\n",
       "<style scoped>\n",
       "    .dataframe tbody tr th:only-of-type {\n",
       "        vertical-align: middle;\n",
       "    }\n",
       "\n",
       "    .dataframe tbody tr th {\n",
       "        vertical-align: top;\n",
       "    }\n",
       "\n",
       "    .dataframe thead th {\n",
       "        text-align: right;\n",
       "    }\n",
       "</style>\n",
       "<table border=\"1\" class=\"dataframe\">\n",
       "  <thead>\n",
       "    <tr style=\"text-align: right;\">\n",
       "      <th></th>\n",
       "      <th>CreditScore</th>\n",
       "      <th>Age</th>\n",
       "      <th>Tenure</th>\n",
       "      <th>Balance</th>\n",
       "      <th>NumOfProducts</th>\n",
       "      <th>HasCrCard</th>\n",
       "      <th>IsActiveMember</th>\n",
       "      <th>EstimatedSalary</th>\n",
       "    </tr>\n",
       "  </thead>\n",
       "  <tbody>\n",
       "    <tr>\n",
       "      <th>0</th>\n",
       "      <td>619</td>\n",
       "      <td>42</td>\n",
       "      <td>2</td>\n",
       "      <td>0.00</td>\n",
       "      <td>1</td>\n",
       "      <td>1</td>\n",
       "      <td>1</td>\n",
       "      <td>101348.88</td>\n",
       "    </tr>\n",
       "    <tr>\n",
       "      <th>1</th>\n",
       "      <td>608</td>\n",
       "      <td>41</td>\n",
       "      <td>1</td>\n",
       "      <td>83807.86</td>\n",
       "      <td>1</td>\n",
       "      <td>0</td>\n",
       "      <td>1</td>\n",
       "      <td>112542.58</td>\n",
       "    </tr>\n",
       "    <tr>\n",
       "      <th>2</th>\n",
       "      <td>502</td>\n",
       "      <td>42</td>\n",
       "      <td>8</td>\n",
       "      <td>159660.80</td>\n",
       "      <td>3</td>\n",
       "      <td>1</td>\n",
       "      <td>0</td>\n",
       "      <td>113931.57</td>\n",
       "    </tr>\n",
       "    <tr>\n",
       "      <th>3</th>\n",
       "      <td>699</td>\n",
       "      <td>39</td>\n",
       "      <td>1</td>\n",
       "      <td>0.00</td>\n",
       "      <td>2</td>\n",
       "      <td>0</td>\n",
       "      <td>0</td>\n",
       "      <td>93826.63</td>\n",
       "    </tr>\n",
       "    <tr>\n",
       "      <th>4</th>\n",
       "      <td>850</td>\n",
       "      <td>43</td>\n",
       "      <td>2</td>\n",
       "      <td>125510.82</td>\n",
       "      <td>1</td>\n",
       "      <td>1</td>\n",
       "      <td>1</td>\n",
       "      <td>79084.10</td>\n",
       "    </tr>\n",
       "  </tbody>\n",
       "</table>\n",
       "</div>"
      ],
      "text/plain": [
       "   CreditScore  Age  Tenure    Balance  NumOfProducts  HasCrCard  \\\n",
       "0          619   42       2       0.00              1          1   \n",
       "1          608   41       1   83807.86              1          0   \n",
       "2          502   42       8  159660.80              3          1   \n",
       "3          699   39       1       0.00              2          0   \n",
       "4          850   43       2  125510.82              1          1   \n",
       "\n",
       "   IsActiveMember  EstimatedSalary  \n",
       "0               1        101348.88  \n",
       "1               1        112542.58  \n",
       "2               0        113931.57  \n",
       "3               0         93826.63  \n",
       "4               1         79084.10  "
      ]
     },
     "execution_count": 16,
     "metadata": {},
     "output_type": "execute_result"
    }
   ],
   "source": [
    "X.head()"
   ]
  },
  {
   "cell_type": "code",
   "execution_count": 18,
   "id": "2c5ef870",
   "metadata": {},
   "outputs": [],
   "source": [
    "X=pd.concat([X,geography,gender],axis=1)"
   ]
  },
  {
   "cell_type": "code",
   "execution_count": 19,
   "id": "1b674da2",
   "metadata": {},
   "outputs": [],
   "source": [
    "##Train test split \n",
    "from sklearn.model_selection import train_test_split\n",
    "X_train,X_test,y_train,y_test=train_test_split(X,y,test_size=0.2,random_state=0)"
   ]
  },
  {
   "cell_type": "code",
   "execution_count": 22,
   "id": "879ac124",
   "metadata": {},
   "outputs": [
    {
     "name": "stderr",
     "output_type": "stream",
     "text": [
      "C:\\Users\\samat\\anaconda3\\lib\\site-packages\\sklearn\\base.py:450: UserWarning: X does not have valid feature names, but StandardScaler was fitted with feature names\n",
      "  warnings.warn(\n"
     ]
    }
   ],
   "source": [
    "##feature scaling\n",
    "from sklearn.preprocessing import StandardScaler\n",
    "sc=StandardScaler()\n",
    "X_train=sc.fit_transform(X_train)\n",
    "X_test=sc.transform(X_test)"
   ]
  },
  {
   "cell_type": "code",
   "execution_count": 23,
   "id": "b4c5ea5a",
   "metadata": {},
   "outputs": [
    {
     "data": {
      "text/plain": [
       "array([[ 0.16958176, -0.46460796,  0.00666099, ..., -0.5698444 ,\n",
       "         1.74309049, -1.09168714],\n",
       "       [-2.30455945,  0.30102557, -1.37744033, ...,  1.75486502,\n",
       "        -0.57369368,  0.91601335],\n",
       "       [-1.19119591, -0.94312892, -1.031415  , ..., -0.5698444 ,\n",
       "        -0.57369368, -1.09168714],\n",
       "       ...,\n",
       "       [ 0.9015152 , -0.36890377,  0.00666099, ..., -0.5698444 ,\n",
       "        -0.57369368,  0.91601335],\n",
       "       [-0.62420521, -0.08179119,  1.39076231, ..., -0.5698444 ,\n",
       "         1.74309049, -1.09168714],\n",
       "       [-0.28401079,  0.87525072, -1.37744033, ...,  1.75486502,\n",
       "        -0.57369368, -1.09168714]])"
      ]
     },
     "execution_count": 23,
     "metadata": {},
     "output_type": "execute_result"
    }
   ],
   "source": [
    "X_train"
   ]
  },
  {
   "cell_type": "code",
   "execution_count": 24,
   "id": "d8d481f4",
   "metadata": {},
   "outputs": [
    {
     "data": {
      "text/plain": [
       "array([[-6.71215999, -3.75385611, -1.36196021, ...,  3.50970685,\n",
       "        -1.90281812, -3.28346797],\n",
       "       [-6.72002426, -3.70805965, -2.08036138, ..., -1.89456703,\n",
       "        -1.90281812, -3.28346797],\n",
       "       [-6.70057614, -3.68974106, -1.36196021, ..., -1.89456703,\n",
       "         3.46467078, -3.28346797],\n",
       "       ...,\n",
       "       [-6.7141792 , -3.74469682, -2.20009491, ..., -1.89456703,\n",
       "         3.46467078,  0.74739332],\n",
       "       [-6.70652748, -3.7630154 , -1.84089432, ...,  3.50970685,\n",
       "        -1.90281812,  0.74739332],\n",
       "       [-6.71471057, -3.79965257, -1.36196021, ...,  3.50970685,\n",
       "        -1.90281812,  0.74739332]])"
      ]
     },
     "execution_count": 24,
     "metadata": {},
     "output_type": "execute_result"
    }
   ],
   "source": [
    "X_test\n"
   ]
  },
  {
   "cell_type": "code",
   "execution_count": 26,
   "id": "783d882b",
   "metadata": {},
   "outputs": [
    {
     "data": {
      "text/plain": [
       "(8000, 11)"
      ]
     },
     "execution_count": 26,
     "metadata": {},
     "output_type": "execute_result"
    }
   ],
   "source": [
    "X_train.shape"
   ]
  },
  {
   "cell_type": "code",
   "execution_count": 29,
   "id": "cea394ff",
   "metadata": {},
   "outputs": [],
   "source": [
    "## part2 creat ANN\n",
    "from tensorflow.keras.models import Sequential\n",
    "from tensorflow.keras.layers import Dense\n",
    "from tensorflow.keras.layers import LeakyReLU,PReLU,ELU,ReLU\n",
    "from tensorflow.keras.layers import Dropout"
   ]
  },
  {
   "cell_type": "code",
   "execution_count": 30,
   "id": "18103ad0",
   "metadata": {},
   "outputs": [],
   "source": [
    "##lets initialize the ANN\n",
    "classifier=Sequential()"
   ]
  },
  {
   "cell_type": "code",
   "execution_count": 31,
   "id": "223bb6f9",
   "metadata": {},
   "outputs": [],
   "source": [
    "##add input layer\n",
    "classifier.add(Dense(units=11,activation='relu'))"
   ]
  },
  {
   "cell_type": "code",
   "execution_count": 32,
   "id": "de98f47b",
   "metadata": {},
   "outputs": [],
   "source": [
    "##add first hidden layer\n",
    "classifier.add(Dense(units=7,activation='relu'))"
   ]
  },
  {
   "cell_type": "code",
   "execution_count": 33,
   "id": "cb215e8c",
   "metadata": {},
   "outputs": [],
   "source": [
    "##add second hidden layer\n",
    "classifier.add(Dense(units=6,activation='relu'))"
   ]
  },
  {
   "cell_type": "code",
   "execution_count": 34,
   "id": "2f85399d",
   "metadata": {},
   "outputs": [],
   "source": [
    "##add output layer\n",
    "classifier.add(Dense(units=1,activation='sigmoid'))"
   ]
  },
  {
   "cell_type": "code",
   "execution_count": 36,
   "id": "4289d7d6",
   "metadata": {},
   "outputs": [],
   "source": [
    "classifier.compile(optimizer='adam',loss='binary_crossentropy',metrics=['accuracy'])"
   ]
  },
  {
   "cell_type": "code",
   "execution_count": 38,
   "id": "87971ea2",
   "metadata": {},
   "outputs": [],
   "source": [
    "##early stopping\n",
    "import tensorflow as tf\n",
    "\n",
    "early_stopping=tf.keras.callbacks.EarlyStopping(\n",
    "    monitor=\"val_loss\",\n",
    "    min_delta=0.0002,\n",
    "    patience=30,\n",
    "    verbose=1,\n",
    "    mode=\"auto\",\n",
    "    baseline=None,\n",
    "    restore_best_weights=False,\n",
    ")"
   ]
  },
  {
   "cell_type": "code",
   "execution_count": 39,
   "id": "cff8e213",
   "metadata": {},
   "outputs": [
    {
     "name": "stdout",
     "output_type": "stream",
     "text": [
      "Epoch 1/1000\n",
      "536/536 [==============================] - 3s 6ms/step - loss: 0.3327 - accuracy: 0.8604 - val_loss: 0.3656 - val_accuracy: 0.8470\n",
      "Epoch 2/1000\n",
      "536/536 [==============================] - 3s 6ms/step - loss: 0.3316 - accuracy: 0.8638 - val_loss: 0.3647 - val_accuracy: 0.8512\n",
      "Epoch 3/1000\n",
      "536/536 [==============================] - 3s 6ms/step - loss: 0.3317 - accuracy: 0.8625 - val_loss: 0.3662 - val_accuracy: 0.8470\n",
      "Epoch 4/1000\n",
      "536/536 [==============================] - 3s 6ms/step - loss: 0.3304 - accuracy: 0.8638 - val_loss: 0.3663 - val_accuracy: 0.8489\n",
      "Epoch 5/1000\n",
      "536/536 [==============================] - 3s 6ms/step - loss: 0.3307 - accuracy: 0.8634 - val_loss: 0.3656 - val_accuracy: 0.8470\n",
      "Epoch 6/1000\n",
      "536/536 [==============================] - 3s 6ms/step - loss: 0.3298 - accuracy: 0.8623 - val_loss: 0.3658 - val_accuracy: 0.8497\n",
      "Epoch 7/1000\n",
      "536/536 [==============================] - 3s 6ms/step - loss: 0.3294 - accuracy: 0.8636 - val_loss: 0.3670 - val_accuracy: 0.8497\n",
      "Epoch 8/1000\n",
      "536/536 [==============================] - 3s 6ms/step - loss: 0.3283 - accuracy: 0.8649 - val_loss: 0.3665 - val_accuracy: 0.8485\n",
      "Epoch 9/1000\n",
      "536/536 [==============================] - 3s 6ms/step - loss: 0.3280 - accuracy: 0.8630 - val_loss: 0.3659 - val_accuracy: 0.8478\n",
      "Epoch 10/1000\n",
      "536/536 [==============================] - 3s 6ms/step - loss: 0.3279 - accuracy: 0.8653 - val_loss: 0.3655 - val_accuracy: 0.8493\n",
      "Epoch 11/1000\n",
      "536/536 [==============================] - 3s 6ms/step - loss: 0.3286 - accuracy: 0.8640 - val_loss: 0.3680 - val_accuracy: 0.8459\n",
      "Epoch 12/1000\n",
      "536/536 [==============================] - 3s 6ms/step - loss: 0.3276 - accuracy: 0.8642 - val_loss: 0.3637 - val_accuracy: 0.8478\n",
      "Epoch 13/1000\n",
      "536/536 [==============================] - 3s 6ms/step - loss: 0.3273 - accuracy: 0.8643 - val_loss: 0.3639 - val_accuracy: 0.8485\n",
      "Epoch 14/1000\n",
      "536/536 [==============================] - 3s 6ms/step - loss: 0.3264 - accuracy: 0.8664 - val_loss: 0.3653 - val_accuracy: 0.8482\n",
      "Epoch 15/1000\n",
      "536/536 [==============================] - 3s 6ms/step - loss: 0.3260 - accuracy: 0.8664 - val_loss: 0.3641 - val_accuracy: 0.8508\n",
      "Epoch 16/1000\n",
      "536/536 [==============================] - 3s 6ms/step - loss: 0.3263 - accuracy: 0.8653 - val_loss: 0.3630 - val_accuracy: 0.8493\n",
      "Epoch 17/1000\n",
      "536/536 [==============================] - 3s 6ms/step - loss: 0.3258 - accuracy: 0.8651 - val_loss: 0.3634 - val_accuracy: 0.8497\n",
      "Epoch 18/1000\n",
      "536/536 [==============================] - 3s 6ms/step - loss: 0.3250 - accuracy: 0.8655 - val_loss: 0.3632 - val_accuracy: 0.8519\n",
      "Epoch 19/1000\n",
      "536/536 [==============================] - 3s 6ms/step - loss: 0.3251 - accuracy: 0.8649 - val_loss: 0.3643 - val_accuracy: 0.8519\n",
      "Epoch 20/1000\n",
      "536/536 [==============================] - 3s 6ms/step - loss: 0.3243 - accuracy: 0.8649 - val_loss: 0.3655 - val_accuracy: 0.8516\n",
      "Epoch 21/1000\n",
      "536/536 [==============================] - 3s 6ms/step - loss: 0.3249 - accuracy: 0.8660 - val_loss: 0.3632 - val_accuracy: 0.8497\n",
      "Epoch 22/1000\n",
      "536/536 [==============================] - 3s 6ms/step - loss: 0.3243 - accuracy: 0.8658 - val_loss: 0.3641 - val_accuracy: 0.8501\n",
      "Epoch 23/1000\n",
      "536/536 [==============================] - 3s 6ms/step - loss: 0.3242 - accuracy: 0.8656 - val_loss: 0.3650 - val_accuracy: 0.8493\n",
      "Epoch 24/1000\n",
      "536/536 [==============================] - 3s 6ms/step - loss: 0.3243 - accuracy: 0.8634 - val_loss: 0.3660 - val_accuracy: 0.8501\n",
      "Epoch 25/1000\n",
      "536/536 [==============================] - 3s 6ms/step - loss: 0.3229 - accuracy: 0.8664 - val_loss: 0.3659 - val_accuracy: 0.8523\n",
      "Epoch 26/1000\n",
      "536/536 [==============================] - 3s 6ms/step - loss: 0.3230 - accuracy: 0.8670 - val_loss: 0.3645 - val_accuracy: 0.8501\n",
      "Epoch 27/1000\n",
      "536/536 [==============================] - 3s 6ms/step - loss: 0.3219 - accuracy: 0.8656 - val_loss: 0.3650 - val_accuracy: 0.8489\n",
      "Epoch 28/1000\n",
      "536/536 [==============================] - 3s 6ms/step - loss: 0.3225 - accuracy: 0.8651 - val_loss: 0.3638 - val_accuracy: 0.8538\n",
      "Epoch 29/1000\n",
      "536/536 [==============================] - 3s 6ms/step - loss: 0.3218 - accuracy: 0.8655 - val_loss: 0.3686 - val_accuracy: 0.8557\n",
      "Epoch 30/1000\n",
      "536/536 [==============================] - 3s 7ms/step - loss: 0.3214 - accuracy: 0.8655 - val_loss: 0.3643 - val_accuracy: 0.8542\n",
      "Epoch 31/1000\n",
      "536/536 [==============================] - 3s 6ms/step - loss: 0.3216 - accuracy: 0.8660 - val_loss: 0.3620 - val_accuracy: 0.8535\n",
      "Epoch 32/1000\n",
      "536/536 [==============================] - 3s 6ms/step - loss: 0.3210 - accuracy: 0.8656 - val_loss: 0.3621 - val_accuracy: 0.8554\n",
      "Epoch 33/1000\n",
      "536/536 [==============================] - 3s 6ms/step - loss: 0.3207 - accuracy: 0.8670 - val_loss: 0.3622 - val_accuracy: 0.8542\n",
      "Epoch 34/1000\n",
      "536/536 [==============================] - 3s 6ms/step - loss: 0.3211 - accuracy: 0.8670 - val_loss: 0.3643 - val_accuracy: 0.8519\n",
      "Epoch 35/1000\n",
      "536/536 [==============================] - 3s 6ms/step - loss: 0.3202 - accuracy: 0.8668 - val_loss: 0.3644 - val_accuracy: 0.8527\n",
      "Epoch 36/1000\n",
      "536/536 [==============================] - 2s 3ms/step - loss: 0.3189 - accuracy: 0.8666 - val_loss: 0.3642 - val_accuracy: 0.8535\n",
      "Epoch 37/1000\n",
      "536/536 [==============================] - 2s 3ms/step - loss: 0.3197 - accuracy: 0.8673 - val_loss: 0.3646 - val_accuracy: 0.8527\n",
      "Epoch 38/1000\n",
      "536/536 [==============================] - 2s 3ms/step - loss: 0.3191 - accuracy: 0.8668 - val_loss: 0.3614 - val_accuracy: 0.8531\n",
      "Epoch 39/1000\n",
      "536/536 [==============================] - 3s 6ms/step - loss: 0.3183 - accuracy: 0.8679 - val_loss: 0.3651 - val_accuracy: 0.8519\n",
      "Epoch 40/1000\n",
      "536/536 [==============================] - 3s 6ms/step - loss: 0.3187 - accuracy: 0.8666 - val_loss: 0.3654 - val_accuracy: 0.8504\n",
      "Epoch 41/1000\n",
      "536/536 [==============================] - 3s 6ms/step - loss: 0.3182 - accuracy: 0.8686 - val_loss: 0.3663 - val_accuracy: 0.8523\n",
      "Epoch 42/1000\n",
      "536/536 [==============================] - 3s 6ms/step - loss: 0.3178 - accuracy: 0.8660 - val_loss: 0.3665 - val_accuracy: 0.8493\n",
      "Epoch 43/1000\n",
      "536/536 [==============================] - 3s 6ms/step - loss: 0.3188 - accuracy: 0.8666 - val_loss: 0.3630 - val_accuracy: 0.8550\n",
      "Epoch 44/1000\n",
      "536/536 [==============================] - 3s 5ms/step - loss: 0.3181 - accuracy: 0.8662 - val_loss: 0.3625 - val_accuracy: 0.8497\n",
      "Epoch 45/1000\n",
      "536/536 [==============================] - 3s 6ms/step - loss: 0.3172 - accuracy: 0.8690 - val_loss: 0.3654 - val_accuracy: 0.8523\n",
      "Epoch 46/1000\n",
      "536/536 [==============================] - 3s 6ms/step - loss: 0.3161 - accuracy: 0.8683 - val_loss: 0.3639 - val_accuracy: 0.8508\n",
      "Epoch 47/1000\n",
      "536/536 [==============================] - 3s 6ms/step - loss: 0.3173 - accuracy: 0.8664 - val_loss: 0.3649 - val_accuracy: 0.8489\n",
      "Epoch 48/1000\n",
      "536/536 [==============================] - 3s 6ms/step - loss: 0.3165 - accuracy: 0.8688 - val_loss: 0.3643 - val_accuracy: 0.8546\n",
      "Epoch 49/1000\n",
      "536/536 [==============================] - 3s 6ms/step - loss: 0.3167 - accuracy: 0.8720 - val_loss: 0.3647 - val_accuracy: 0.8512\n",
      "Epoch 50/1000\n",
      "536/536 [==============================] - 3s 6ms/step - loss: 0.3164 - accuracy: 0.8671 - val_loss: 0.3667 - val_accuracy: 0.8519\n",
      "Epoch 51/1000\n",
      "536/536 [==============================] - 3s 6ms/step - loss: 0.3165 - accuracy: 0.8688 - val_loss: 0.3651 - val_accuracy: 0.8523\n",
      "Epoch 52/1000\n",
      "536/536 [==============================] - 3s 6ms/step - loss: 0.3171 - accuracy: 0.8684 - val_loss: 0.3660 - val_accuracy: 0.8538\n",
      "Epoch 53/1000\n",
      "536/536 [==============================] - 3s 6ms/step - loss: 0.3158 - accuracy: 0.8688 - val_loss: 0.3724 - val_accuracy: 0.8497\n",
      "Epoch 54/1000\n",
      "536/536 [==============================] - 3s 6ms/step - loss: 0.3168 - accuracy: 0.8688 - val_loss: 0.3670 - val_accuracy: 0.8504\n",
      "Epoch 55/1000\n",
      "536/536 [==============================] - 3s 7ms/step - loss: 0.3159 - accuracy: 0.8670 - val_loss: 0.3656 - val_accuracy: 0.8516\n",
      "Epoch 56/1000\n",
      "536/536 [==============================] - 4s 7ms/step - loss: 0.3162 - accuracy: 0.8679 - val_loss: 0.3650 - val_accuracy: 0.8531\n",
      "Epoch 57/1000\n"
     ]
    },
    {
     "name": "stdout",
     "output_type": "stream",
     "text": [
      "536/536 [==============================] - 3s 5ms/step - loss: 0.3162 - accuracy: 0.8681 - val_loss: 0.3653 - val_accuracy: 0.8535\n",
      "Epoch 58/1000\n",
      "536/536 [==============================] - 3s 6ms/step - loss: 0.3158 - accuracy: 0.8698 - val_loss: 0.3683 - val_accuracy: 0.8516\n",
      "Epoch 59/1000\n",
      "536/536 [==============================] - 3s 6ms/step - loss: 0.3155 - accuracy: 0.8679 - val_loss: 0.3693 - val_accuracy: 0.8535\n",
      "Epoch 60/1000\n",
      "536/536 [==============================] - 2s 4ms/step - loss: 0.3156 - accuracy: 0.8705 - val_loss: 0.3647 - val_accuracy: 0.8519\n",
      "Epoch 61/1000\n",
      "536/536 [==============================] - 2s 4ms/step - loss: 0.3150 - accuracy: 0.8690 - val_loss: 0.3647 - val_accuracy: 0.8542\n",
      "Epoch 62/1000\n",
      "536/536 [==============================] - 1s 3ms/step - loss: 0.3152 - accuracy: 0.8714 - val_loss: 0.3672 - val_accuracy: 0.8527\n",
      "Epoch 63/1000\n",
      "536/536 [==============================] - 2s 3ms/step - loss: 0.3157 - accuracy: 0.8692 - val_loss: 0.3647 - val_accuracy: 0.8523\n",
      "Epoch 64/1000\n",
      "536/536 [==============================] - 3s 5ms/step - loss: 0.3145 - accuracy: 0.8699 - val_loss: 0.3688 - val_accuracy: 0.8485\n",
      "Epoch 65/1000\n",
      "536/536 [==============================] - 3s 6ms/step - loss: 0.3155 - accuracy: 0.8699 - val_loss: 0.3699 - val_accuracy: 0.8493\n",
      "Epoch 66/1000\n",
      "536/536 [==============================] - 2s 4ms/step - loss: 0.3153 - accuracy: 0.8688 - val_loss: 0.3648 - val_accuracy: 0.8527\n",
      "Epoch 67/1000\n",
      "536/536 [==============================] - 3s 6ms/step - loss: 0.3151 - accuracy: 0.8696 - val_loss: 0.3659 - val_accuracy: 0.8542\n",
      "Epoch 68/1000\n",
      "536/536 [==============================] - 3s 6ms/step - loss: 0.3157 - accuracy: 0.8696 - val_loss: 0.3688 - val_accuracy: 0.8516\n",
      "Epoch 68: early stopping\n"
     ]
    }
   ],
   "source": [
    "model_histroy=classifier.fit(X_train,y_train,validation_split=0.33,batch_size=10,epochs=1000,callbacks=early_stopping)"
   ]
  },
  {
   "cell_type": "code",
   "execution_count": 42,
   "id": "74c55dfa",
   "metadata": {},
   "outputs": [
    {
     "data": {
      "text/plain": [
       "dict_keys(['loss', 'accuracy', 'val_loss', 'val_accuracy'])"
      ]
     },
     "execution_count": 42,
     "metadata": {},
     "output_type": "execute_result"
    }
   ],
   "source": [
    "model_histroy.history.keys()"
   ]
  },
  {
   "cell_type": "code",
   "execution_count": 43,
   "id": "4f2d9291",
   "metadata": {},
   "outputs": [
    {
     "data": {
      "image/png": "[encoded data removed]",
      "text/plain": [
       "<Figure size 432x288 with 1 Axes>"
      ]
     },
     "metadata": {
      "needs_background": "light"
     },
     "output_type": "display_data"
    }
   ],
   "source": [
    "#summery histroy\n",
    "plt.plot(model_histroy.history['accuracy'])\n",
    "plt.plot(model_histroy.history['val_accuracy'])  # RAISE ERROR\n",
    "plt.title('model_accuracy')\n",
    "plt.ylabel('accuracy')\n",
    "plt.xlabel('epoch')\n",
    "plt.legend(['train', 'test'], loc='upper left')\n",
    "plt.show()"
   ]
  },
  {
   "cell_type": "code",
   "execution_count": 44,
   "id": "99e43b08",
   "metadata": {},
   "outputs": [
    {
     "data": {
      "image/png": "[encoded data removed]",
      "text/plain": [
       "<Figure size 432x288 with 1 Axes>"
      ]
     },
     "metadata": {
      "needs_background": "light"
     },
     "output_type": "display_data"
    }
   ],
   "source": [
    "plt.plot(model_histroy.history['loss'])\n",
    "plt.plot(model_histroy.history['val_loss'])  # RAISE ERROR\n",
    "plt.title('model_loss')\n",
    "plt.ylabel('loss')\n",
    "plt.xlabel('epoch')\n",
    "plt.legend(['train', 'test'], loc='upper left')\n",
    "plt.show()"
   ]
  },
  {
   "cell_type": "code",
   "execution_count": 46,
   "id": "09820188",
   "metadata": {},
   "outputs": [
    {
     "name": "stdout",
     "output_type": "stream",
     "text": [
      "63/63 [==============================] - 0s 1ms/step\n"
     ]
    }
   ],
   "source": [
    "##make predictions\n",
    "  ##  Predicting test set\n",
    "y_pred=classifier.predict(X_test)\n",
    "y_pred=(y_pred>=0.5)"
   ]
  },
  {
   "cell_type": "code",
   "execution_count": 48,
   "id": "341042ca",
   "metadata": {},
   "outputs": [
    {
     "data": {
      "text/plain": [
       "array([[1595,    0],\n",
       "       [ 403,    2]], dtype=int64)"
      ]
     },
     "execution_count": 48,
     "metadata": {},
     "output_type": "execute_result"
    }
   ],
   "source": [
    "#confusion matrix\n",
    "from sklearn.metrics import confusion_matrix\n",
    "cm=confusion_matrix(y_test,y_pred)\n",
    "cm"
   ]
  },
  {
   "cell_type": "code",
   "execution_count": 49,
   "id": "a0208592",
   "metadata": {},
   "outputs": [],
   "source": [
    "#calculate accuracy\n",
    "from sklearn.metrics import accuracy_score\n",
    "score=accuracy_score(y_pred,y_test)"
   ]
  },
  {
   "cell_type": "code",
   "execution_count": 50,
   "id": "ba81b36c",
   "metadata": {},
   "outputs": [
    {
     "data": {
      "text/plain": [
       "0.7985"
      ]
     },
     "execution_count": 50,
     "metadata": {},
     "output_type": "execute_result"
    }
   ],
   "source": [
    "score"
   ]
  },
  {
   "cell_type": "code",
   "execution_count": 51,
   "id": "2fbd2998",
   "metadata": {},
   "outputs": [
    {
     "data": {
      "text/plain": [
       "[array([[ 0.1569776 ,  0.17216614,  0.21265768,  0.03420324,  0.08342817,\n",
       "         -0.05525719, -0.07961888,  0.12984563,  0.25658605, -0.32627594,\n",
       "          0.2506121 ],\n",
       "        [ 0.96360856,  0.33010766,  0.37284568, -0.61384845, -0.93922764,\n",
       "          0.47680053, -0.7013464 , -0.75160486, -0.37392965,  0.86535174,\n",
       "         -0.16069034],\n",
       "        [ 0.31593618,  0.08203539,  0.13992128, -0.04234533,  0.03842311,\n",
       "          0.21400139,  0.13568088, -0.1462829 , -0.01571688, -0.1274245 ,\n",
       "          0.08381215],\n",
       "        [ 0.01323269, -0.36349162, -0.13856171,  0.08678941,  0.193132  ,\n",
       "          0.24459808,  0.28915492,  0.40657318, -0.96939915,  0.00829189,\n",
       "          0.01040237],\n",
       "        [-0.40029353, -0.12100045,  0.23557442,  0.27000234,  0.46717554,\n",
       "          0.44193518,  0.06563373, -0.6250277 ,  0.23745587,  0.46306434,\n",
       "          1.8194802 ],\n",
       "        [-0.32308152, -0.06249535, -0.29242995,  0.10241634,  0.13896014,\n",
       "          0.21893437, -0.49237615,  0.41484705, -0.05891178,  0.10416345,\n",
       "         -0.10248755],\n",
       "        [-0.43012527, -0.13958643,  0.21523485, -0.0219832 ,  0.11620417,\n",
       "          0.9233862 ,  0.2484483 ,  0.41271177,  0.00456229, -1.0312427 ,\n",
       "          0.44254738],\n",
       "        [ 0.29136762,  0.25871134, -0.05754224,  0.07670891,  0.15065433,\n",
       "         -0.2027526 , -0.4454007 , -0.09039363, -0.03746069, -0.38061157,\n",
       "          0.08311195],\n",
       "        [-0.12250438,  0.3450813 , -0.5778103 , -0.04828527, -0.58354205,\n",
       "         -0.09435248, -0.5666073 , -0.41149762,  0.1616005 , -0.24596825,\n",
       "         -0.36795878],\n",
       "        [ 0.33293372,  0.24063762, -0.6847146 , -1.1112535 ,  0.60386854,\n",
       "          0.41190085,  0.02338151,  0.13050023,  0.613117  , -0.13595307,\n",
       "          0.3126742 ],\n",
       "        [-0.20989007,  1.0128673 ,  0.43264392, -0.08892407,  0.15345277,\n",
       "         -0.22865911,  0.15484016,  0.46610865, -0.07994965,  0.07827413,\n",
       "          0.45832586]], dtype=float32),\n",
       " array([-0.34390354,  0.4907496 , -0.3262325 ,  0.5789705 ,  0.50369906,\n",
       "         0.3254641 ,  0.47108874,  0.09583714,  0.49758065, -0.25078642,\n",
       "         0.34953925], dtype=float32),\n",
       " array([[-0.7169073 , -2.400041  , -1.4352374 ,  0.47803912,  0.17149071,\n",
       "          0.3174939 ],\n",
       "        [ 0.19669364,  0.42699596, -0.5555312 ,  0.26980868, -0.55968946,\n",
       "          0.26985747],\n",
       "        [-0.01791877,  0.6199887 ,  0.33477187, -0.60705835, -0.36482412,\n",
       "          0.09614307],\n",
       "        [ 0.33348238,  0.28341714, -0.9872726 , -0.54580474, -0.03820769,\n",
       "          0.7898382 ],\n",
       "        [ 0.08470186, -0.6720614 , -0.6057719 , -0.75299484,  0.02850629,\n",
       "          0.47423962],\n",
       "        [-0.272506  , -0.40028834,  0.5032807 , -0.879129  , -0.19466479,\n",
       "          0.34230822],\n",
       "        [-0.1455693 , -0.16771069, -0.61051357, -0.52678007, -0.02495916,\n",
       "          0.42220405],\n",
       "        [ 0.5085269 ,  0.23145051, -2.1251624 ,  0.2729681 , -0.19073273,\n",
       "          0.14237589],\n",
       "        [ 0.5249759 , -1.065779  , -0.5465554 ,  0.05687857, -0.6184862 ,\n",
       "         -0.15632434],\n",
       "        [ 0.01395078,  0.07625791, -1.6010122 ,  0.54579574,  0.3608767 ,\n",
       "          0.68210185],\n",
       "        [ 0.02470457,  0.46750554,  0.6967302 ,  0.39958465,  1.1670169 ,\n",
       "          1.1690706 ]], dtype=float32),\n",
       " array([ 0.2817046 ,  0.24765657, -0.10669349,  0.11289313, -0.7279616 ,\n",
       "        -0.08793986], dtype=float32),\n",
       " array([[-0.50164443, -0.2814548 , -0.38278586,  0.5135457 , -0.35631853,\n",
       "         -0.63106203],\n",
       "        [ 0.36327034,  0.9303192 , -0.30823895,  0.55109674,  0.67256063,\n",
       "          0.10229951],\n",
       "        [-0.55355495, -0.90770346, -0.56866455, -1.0620339 ,  1.8086228 ,\n",
       "         -0.08778566],\n",
       "        [ 0.77809834, -0.5529867 , -0.22169073, -0.53230387,  0.15394683,\n",
       "          0.35813034],\n",
       "        [ 1.0423636 , -1.3436614 , -0.38415065, -1.1841522 ,  0.43309772,\n",
       "         -0.4966354 ],\n",
       "        [-0.02565968,  0.90986615, -0.02537805,  0.746078  , -0.33682433,\n",
       "         -0.6241554 ]], dtype=float32),\n",
       " array([ 0.34631678,  0.08356709, -0.05192805,  0.07764256,  0.5603423 ,\n",
       "        -0.22951567], dtype=float32),\n",
       " array([[ 1.2974788 ],\n",
       "        [-0.7370193 ],\n",
       "        [ 0.7242553 ],\n",
       "        [-0.36057922],\n",
       "        [ 2.5450265 ],\n",
       "        [-0.5170142 ]], dtype=float32),\n",
       " array([0.0314098], dtype=float32)]"
      ]
     },
     "execution_count": 51,
     "metadata": {},
     "output_type": "execute_result"
    }
   ],
   "source": [
    "##get the weights\n",
    "classifier.get_weights()"
   ]
  },
  {
   "cell_type": "code",
   "execution_count": null,
   "id": "7ba311ff",
   "metadata": {},
   "outputs": [],
   "source": []
  }
 ],
 "metadata": {
  "kernelspec": {
   "display_name": "Python 3 (ipykernel)",
   "language": "python",
   "name": "python3"
  },
  "language_info": {
   "codemirror_mode": {
    "name": "ipython",
    "version": 3
   },
   "file_extension": ".py",
   "mimetype": "text/x-python",
   "name": "python",
   "nbconvert_exporter": "python",
   "pygments_lexer": "ipython3",
   "version": "3.9.12"
  }
 },
 "nbformat": 4,
 "nbformat_minor": 5
}
